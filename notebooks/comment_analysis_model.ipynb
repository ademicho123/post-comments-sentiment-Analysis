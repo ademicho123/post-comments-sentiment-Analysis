{
 "cells": [
  {
   "cell_type": "code",
   "execution_count": 30,
   "id": "99fc38b1",
   "metadata": {
    "colab": {
     "base_uri": "https://localhost:8080/"
    },
    "executionInfo": {
     "elapsed": 254,
     "status": "ok",
     "timestamp": 1708118079466,
     "user": {
      "displayName": "Ademicho",
      "userId": "16016306917753753169"
     },
     "user_tz": 0
    },
    "id": "99fc38b1",
    "outputId": "a1f35bcf-86c1-416d-d842-2ee28574c68f"
   },
   "outputs": [
    {
     "data": {
      "text/plain": [
       "True"
      ]
     },
     "execution_count": 30,
     "metadata": {},
     "output_type": "execute_result"
    }
   ],
   "source": [
    "# Import required libraries\n",
    "import pandas as pd\n",
    "import numpy as np\n",
    "import matplotlib.pyplot as plt\n",
    "import seaborn as sns\n",
    "from nltk.sentiment.vader import SentimentIntensityAnalyzer\n",
    "import os\n",
    "import sys\n",
    "from pathlib import Path\n",
    "from sklearn.feature_extraction.text import TfidfVectorizer\n",
    "from sklearn.model_selection import train_test_split\n",
    "from sklearn.metrics import classification_report, confusion_matrix\n",
    "\n",
    "# Add project root to path for importing custom modules\n",
    "project_root = str(Path.cwd().parent) if 'notebooks' in str(Path.cwd()) else str(Path.cwd())\n",
    "if project_root not in sys.path:\n",
    "    sys.path.append(project_root)\n",
    "\n",
    "# Download required NLTK data\n",
    "import nltk\n",
    "nltk.download('vader_lexicon', quiet=True)\n",
    "nltk.download('stopwords', quiet=True)\n",
    "nltk.download('punkt', quiet=True)\n",
    "nltk.download('wordnet', quiet=True)"
   ]
  },
  {
   "cell_type": "code",
   "execution_count": 31,
   "id": "5ac3bb86",
   "metadata": {},
   "outputs": [
    {
     "name": "stdout",
     "output_type": "stream",
     "text": [
      "['LabelEncoder', 'Pipeline', 'RandomUnderSampler', 'SMOTE', 'StandardScaler', 'TfidfVectorizer', 'WordNetLemmatizer', '__all__', '__builtins__', '__cached__', '__doc__', '__file__', '__loader__', '__name__', '__package__', '__spec__', 'csr_matrix', 'emoji', 'nltk', 'np', 'pd', 'prepare_dataset', 'preprocess_data', 're', 'stopwords', 'train_test_split', 'vstack', 'word_tokenize']\n"
     ]
    }
   ],
   "source": [
    "# First check if your preprocessing module is accessible\n",
    "import src.preprocessing\n",
    "print(dir(src.preprocessing))  # This will show all available functions"
   ]
  },
  {
   "cell_type": "code",
   "execution_count": 32,
   "id": "ab3441ee",
   "metadata": {},
   "outputs": [
    {
     "name": "stdout",
     "output_type": "stream",
     "text": [
      "Loading data...\n",
      "Attempting to load from: c:\\Users\\ELITEBOOK\\OneDrive\\Desktop\\Projects\\post-comments-sentiment-Analysis\\data\\raw\\comments_1st.csv\n"
     ]
    },
    {
     "name": "stdout",
     "output_type": "stream",
     "text": [
      "\n",
      "Data loaded successfully!\n",
      "Dataset Shape: (1032, 11)\n",
      "\n",
      "Columns: ['Public Identifier', 'Profile Link', 'Full Name', 'Subtitle', 'Comment Url', 'comments', 'Like Count', 'Comment Count', 'Is Reply', 'Is Author', 'Comment Time']\n",
      "\n",
      "Missing Values:\n",
      " Public Identifier    0\n",
      "Profile Link         0\n",
      "Full Name            0\n",
      "Subtitle             1\n",
      "Comment Url          0\n",
      "comments             0\n",
      "Like Count           0\n",
      "Comment Count        0\n",
      "Is Reply             0\n",
      "Is Author            0\n",
      "Comment Time         0\n",
      "dtype: int64\n",
      "\n",
      "First few rows of the data:\n",
      "                         Public Identifier  \\\n",
      "0  ACoAAAArQoYBpAqYrKxJmm8d24JvmnPZJME8u8I   \n",
      "1  ACoAAAATB9sBQ4Lr1QH_HHcaU7nsv0veqUjG0iI   \n",
      "2  ACoAAAAsJKMBhXw2HY7b6BQcG5onjnxpSQusdaw   \n",
      "3  ACoAAAHNFVQBIa-Ul4NAml-iAqsZTAuZvqcGINw   \n",
      "4  ACoAAANmB6kBj8i-jq9oLr67NuxriLKmpuiH6CI   \n",
      "\n",
      "                                        Profile Link  \\\n",
      "0  https://www.linkedin.com/in/ACoAAAArQoYBpAqYrK...   \n",
      "1  https://www.linkedin.com/in/ACoAAAATB9sBQ4Lr1Q...   \n",
      "2  https://www.linkedin.com/in/ACoAAAAsJKMBhXw2HY...   \n",
      "3  https://www.linkedin.com/in/ACoAAAHNFVQBIa-Ul4...   \n",
      "4  https://www.linkedin.com/in/ACoAAANmB6kBj8i-jq...   \n",
      "\n",
      "                                     Full Name  \\\n",
      "0                                   Winnie Sun   \n",
      "1                               Marsha Collier   \n",
      "2                               Brett Gillilan   \n",
      "3                                Melissa Reyes   \n",
      "4  Dr. Ai Addyson-Zhang ?? Education Disruptor   \n",
      "\n",
      "                                            Subtitle  \\\n",
      "0  #WinnieSun ?? ?? 25+ billion impressions share...   \n",
      "1  47 books: eCommerce, Social Media, Customer Se...   \n",
      "2                                     B2B Consultant   \n",
      "3                   Operations Manager at CVS Health   \n",
      "4  ?? I help teens & young adults reclaim their c...   \n",
      "\n",
      "                                         Comment Url  \\\n",
      "0  https://www.linkedin.com/feed/update/urn:li:ac...   \n",
      "1  https://www.linkedin.com/feed/update/urn:li:ac...   \n",
      "2  https://www.linkedin.com/feed/update/urn:li:ac...   \n",
      "3  https://www.linkedin.com/feed/update/urn:li:ac...   \n",
      "4  https://www.linkedin.com/feed/update/urn:li:ac...   \n",
      "\n",
      "                                            comments  Like Count  \\\n",
      "0  Meeting Marsha Collier in person = priceless! ...           4   \n",
      "1  I figured you'd be working anyway. Thanks so m...           0   \n",
      "2  Do you have the ability to get a full length f...           0   \n",
      "3  Bummed I am just seeing this! Hope you had a f...           1   \n",
      "4  This is soooo awesome! Wish i could join you a...           1   \n",
      "\n",
      "   Comment Count  Is Reply  Is Author           Comment Time  \n",
      "0              4     False      False  5/23/2018, 2:22:04 AM  \n",
      "1              0      True       True  5/26/2018, 1:09:55 AM  \n",
      "2              0     False      False  5/23/2018, 6:08:14 PM  \n",
      "3              1     False      False  5/25/2018, 2:27:46 PM  \n",
      "4              0     False      False  5/23/2018, 6:50:21 AM  \n"
     ]
    }
   ],
   "source": [
    "# Determine the correct path to the data file\n",
    "current_dir = Path.cwd()\n",
    "if current_dir.name == 'notebooks':\n",
    "    data_path = current_dir.parent / 'data' / 'raw' / 'comments_1st.csv'\n",
    "else:\n",
    "    data_path = current_dir / 'data' / 'raw' / 'comments_1st.csv'\n",
    "\n",
    "# Load data\n",
    "print(\"Loading data...\")\n",
    "print(f\"Attempting to load from: {data_path}\")\n",
    "data = pd.read_csv(str(data_path), encoding='Windows-1252', engine='python', on_bad_lines='skip', encoding_errors='replace')\n",
    "\n",
    "if data is not None:\n",
    "    print(\"\\nData loaded successfully!\")\n",
    "    print(\"Dataset Shape:\", data.shape)\n",
    "    print(\"\\nColumns:\", data.columns.tolist())\n",
    "    print(\"\\nMissing Values:\\n\", data.isnull().sum())\n",
    "else:\n",
    "    print(\"Failed to load data file.\")\n",
    "\n",
    "# Preview the data\n",
    "print(\"\\nFirst few rows of the data:\")\n",
    "print(data.head())\n"
   ]
  },
  {
   "cell_type": "code",
   "execution_count": 33,
   "id": "c260cc56",
   "metadata": {
    "executionInfo": {
     "elapsed": 546,
     "status": "ok",
     "timestamp": 1708118080226,
     "user": {
      "displayName": "Ademicho",
      "userId": "16016306917753753169"
     },
     "user_tz": 0
    },
    "id": "c260cc56"
   },
   "outputs": [],
   "source": [
    "# Comment Length Analysis\n",
    "data['comment_length'] = data['comments'].str.len()\n",
    "plt.figure(figsize=(10, 6))\n",
    "sns.histplot(data=data['comment_length'], bins=50)\n",
    "plt.title('Distribution of Comment Lengths')\n",
    "plt.xlabel('Comment Length')\n",
    "plt.ylabel('Count')\n",
    "reports_dir = os.path.join(project_root, 'reports')\n",
    "if not os.path.exists(reports_dir):\n",
    "    os.makedirs(reports_dir)\n",
    "plt.savefig(os.path.join(reports_dir, 'comment_length_distribution.png'))\n",
    "plt.close()\n"
   ]
  },
  {
   "cell_type": "code",
   "execution_count": 34,
   "id": "40dd0465",
   "metadata": {},
   "outputs": [],
   "source": [
    "# Sentiment Analysis with VADER\n",
    "sia = SentimentIntensityAnalyzer()\n",
    "\n",
    "def assign_sentiment_scores(text):\n",
    "    scores = sia.polarity_scores(text)\n",
    "    return scores['compound']\n",
    "\n",
    "def assign_scores(data):\n",
    "    data['sentiment'] = data['comments'].apply(assign_sentiment_scores)\n",
    "    return data\n",
    "\n",
    "def assign_directions(data):\n",
    "    data['mood'] = data['sentiment'].apply(lambda x: 'negative' if x < 0.0 else ('neutral' if 0.0 <= x < 0.4 else 'positive'))\n",
    "    data['target'] = data['sentiment'].apply(lambda x: 2 if x < 0.0 else (1 if 0.0 <= x < 0.4 else 0))\n",
    "    return data\n",
    "\n",
    "# Assign sentiment scores and directions\n",
    "data = assign_scores(data)\n",
    "data = assign_directions(data)  # Call assign_directions before plotting\n",
    "\n",
    "# Plot histogram of sentiments\n",
    "plt.figure(figsize=(10, 6))\n",
    "sns.countplot(data=data, x='mood')  # Changed to countplot for categorical data\n",
    "plt.title('Distribution of Sentiment Categories')\n",
    "plt.xlabel('Sentiment Category')\n",
    "plt.ylabel('Count')\n",
    "plt.savefig(os.path.join(reports_dir, 'sentiment_category_distribution.png'))\n",
    "plt.close()\n",
    "\n",
    "# Plot bar chart of sentiment categories\n",
    "sentiment_counts = data['target'].value_counts()\n",
    "plt.figure(figsize=(10, 6))\n",
    "sns.barplot(x=sentiment_counts.index, y=sentiment_counts.values)\n",
    "plt.title('Distribution of Sentiment Categories')\n",
    "plt.xlabel('Sentiment Category')\n",
    "plt.ylabel('Count')\n",
    "plt.savefig(os.path.join(reports_dir, 'sentiment_category_distribution.png'))\n",
    "plt.close()"
   ]
  },
  {
   "cell_type": "code",
   "execution_count": 35,
   "id": "654fa26f",
   "metadata": {},
   "outputs": [
    {
     "name": "stdout",
     "output_type": "stream",
     "text": [
      "Data info:\n",
      "<class 'pandas.core.frame.DataFrame'>\n",
      "RangeIndex: 1032 entries, 0 to 1031\n",
      "Data columns (total 15 columns):\n",
      " #   Column             Non-Null Count  Dtype  \n",
      "---  ------             --------------  -----  \n",
      " 0   Public Identifier  1032 non-null   object \n",
      " 1   Profile Link       1032 non-null   object \n",
      " 2   Full Name          1032 non-null   object \n",
      " 3   Subtitle           1031 non-null   object \n",
      " 4   Comment Url        1032 non-null   object \n",
      " 5   comments           1032 non-null   object \n",
      " 6   Like Count         1032 non-null   int64  \n",
      " 7   Comment Count      1032 non-null   int64  \n",
      " 8   Is Reply           1032 non-null   bool   \n",
      " 9   Is Author          1032 non-null   bool   \n",
      " 10  Comment Time       1032 non-null   object \n",
      " 11  comment_length     1032 non-null   int64  \n",
      " 12  sentiment          1032 non-null   float64\n",
      " 13  mood               1032 non-null   object \n",
      " 14  target             1032 non-null   int64  \n",
      "dtypes: bool(2), float64(1), int64(4), object(8)\n",
      "memory usage: 107.0+ KB\n",
      "None\n",
      "\n",
      "Sample of comments column:\n",
      "0    Meeting Marsha Collier in person = priceless! ...\n",
      "1    I figured you'd be working anyway. Thanks so m...\n",
      "Name: comments, dtype: object\n"
     ]
    }
   ],
   "source": [
    "# First, let's check the data types and structure\n",
    "print(\"Data info:\")\n",
    "print(data.info())\n",
    "\n",
    "print(\"\\nSample of comments column:\")\n",
    "print(data['comments'].head(2))"
   ]
  },
  {
   "cell_type": "code",
   "execution_count": 36,
   "id": "13581852",
   "metadata": {
    "colab": {
     "base_uri": "https://localhost:8080/",
     "height": 206
    },
    "executionInfo": {
     "elapsed": 496,
     "status": "ok",
     "timestamp": 1708118080714,
     "user": {
      "displayName": "Ademicho",
      "userId": "16016306917753753169"
     },
     "user_tz": 0
    },
    "id": "13581852",
    "outputId": "e53e8ec0-bc0c-4b6b-a60e-4061af99c72c"
   },
   "outputs": [
    {
     "name": "stdout",
     "output_type": "stream",
     "text": [
      "Preprocessing comments...\n",
      "\n",
      "First few processed comments:\n",
      "                                            comments  \\\n",
      "0  Meeting Marsha Collier in person = priceless! ...   \n",
      "1  I figured you'd be working anyway. Thanks so m...   \n",
      "2  Do you have the ability to get a full length f...   \n",
      "3  Bummed I am just seeing this! Hope you had a f...   \n",
      "4  This is soooo awesome! Wish i could join you a...   \n",
      "\n",
      "                                  processed_comments  \n",
      "0  meeting marsha collier person priceless excite...  \n",
      "1             figured working anyway thanks much mel  \n",
      "2        ability get full length feature film funded  \n",
      "3                   bummed seeing hope fabulous time  \n",
      "4     soooo awesome wish could join awesome lady fun  \n"
     ]
    }
   ],
   "source": [
    "from src.preprocessing import preprocess_data \n",
    "\n",
    "# Preprocess the comments\n",
    "print(\"Preprocessing comments...\")\n",
    "data = preprocess_data(data)\n",
    "\n",
    "# Check the results\n",
    "print(\"\\nFirst few processed comments:\")\n",
    "print(data[['comments', 'processed_comments']].head())"
   ]
  },
  {
   "cell_type": "code",
   "execution_count": 37,
   "id": "f5a2eee3",
   "metadata": {},
   "outputs": [
    {
     "name": "stdout",
     "output_type": "stream",
     "text": [
      "\n",
      "Saving processed data...\n"
     ]
    }
   ],
   "source": [
    "# Save Processed Data\n",
    "print(\"\\nSaving processed data...\")\n",
    "processed_data_path = os.path.join(project_root, 'data', 'processed')\n",
    "if not os.path.exists(processed_data_path):\n",
    "    os.makedirs(processed_data_path)\n",
    "data.to_csv(os.path.join(processed_data_path, 'processed_data.csv'), index=False)\n"
   ]
  },
  {
   "cell_type": "code",
   "execution_count": 38,
   "id": "65459ca4",
   "metadata": {},
   "outputs": [
    {
     "name": "stdout",
     "output_type": "stream",
     "text": [
      "\n",
      "Preparing dataset...\n",
      "\n",
      "Cleaning data...\n",
      "Initial dataset size: 1013\n",
      "Initial class distribution:\n",
      "target\n",
      "0    670\n",
      "1    235\n",
      "2    108\n",
      "Name: count, dtype: int64\n",
      "\n",
      "Performing TF-IDF vectorization...\n",
      "\n",
      "Splitting data into train and test sets...\n",
      "\n",
      "Applying SMOTE to increase dataset size...\n",
      "Iteration 1: Current size = 810\n",
      "Iteration 2: Current size = 1608\n",
      "Iteration 3: Current size = 1608\n",
      "Iteration 4: Current size = 1608\n",
      "Iteration 5: Current size = 1608\n",
      "Iteration 6: Current size = 1608\n",
      "Iteration 7: Current size = 1608\n",
      "Iteration 8: Current size = 1608\n",
      "Iteration 9: Current size = 1608\n",
      "Iteration 10: Current size = 1608\n",
      "\n",
      "Shuffling final dataset...\n",
      "\n",
      "Final dataset statistics:\n",
      "Training set size: 1608\n",
      "Test set size: 203\n",
      "\n",
      "Final class distribution in training set:\n",
      "target\n",
      "0    536\n",
      "2    536\n",
      "1    536\n",
      "Name: count, dtype: int64\n",
      "\n",
      "First few lines of training data:\n",
      "   target\n",
      "0       0\n",
      "1       0\n",
      "2       0\n",
      "3       2\n",
      "4       0\n",
      "\n",
      "Class distribution in training data:\n",
      "target\n",
      "0    536\n",
      "2    536\n",
      "1    536\n",
      "Name: count, dtype: int64\n"
     ]
    }
   ],
   "source": [
    "from src.preprocessing import prepare_dataset \n",
    "\n",
    "# Prepare data for training\n",
    "print(\"\\nPreparing dataset...\")\n",
    "X_train, X_test, y_train, y_test, vectorizer = prepare_dataset(data)\n",
    "\n",
    "# Verify dataset sizes\n",
    "print(\"\\nFirst few lines of training data:\")\n",
    "print(pd.DataFrame(y_train, columns=['target']).head())\n",
    "\n",
    "print(\"\\nClass distribution in training data:\")\n",
    "print(pd.DataFrame(y_train, columns=['target']).target.value_counts())"
   ]
  },
  {
   "cell_type": "code",
   "execution_count": 27,
   "id": "8bda4962",
   "metadata": {},
   "outputs": [
    {
     "name": "stdout",
     "output_type": "stream",
     "text": [
      "\n",
      "Training the XGBoost model...\n",
      "Training model with hyperparameter tuning...\n",
      "Fitting 3 folds for each of 16 candidates, totalling 48 fits\n"
     ]
    },
    {
     "name": "stderr",
     "output_type": "stream",
     "text": [
      "C:\\Users\\ELITEBOOK\\AppData\\Local\\Packages\\PythonSoftwareFoundation.Python.3.12_qbz5n2kfra8p0\\LocalCache\\local-packages\\Python312\\site-packages\\xgboost\\core.py:158: UserWarning: [15:48:02] WARNING: C:\\buildkite-agent\\builds\\buildkite-windows-cpu-autoscaling-group-i-0015a694724fa8361-1\\xgboost\\xgboost-ci-windows\\src\\learner.cc:740: \n",
      "Parameters: { \"use_label_encoder\" } are not used.\n",
      "\n",
      "  warnings.warn(smsg, UserWarning)\n"
     ]
    },
    {
     "name": "stdout",
     "output_type": "stream",
     "text": [
      "Best Parameters: {'learning_rate': 0.1, 'max_depth': 5, 'n_estimators': 200, 'subsample': 1.0}\n",
      "Best Cross-Validation Score: 0.82\n"
     ]
    }
   ],
   "source": [
    "# Import the train_model function\n",
    "from src.model import train_model\n",
    "\n",
    "# Train the model\n",
    "print(\"\\nTraining the XGBoost model...\")\n",
    "model = train_model(X_train, y_train)\n"
   ]
  },
  {
   "cell_type": "code",
   "execution_count": 28,
   "id": "be2a808f",
   "metadata": {},
   "outputs": [
    {
     "name": "stdout",
     "output_type": "stream",
     "text": [
      "Evaluating the model...\n",
      "\n",
      "Classification Report:\n",
      "              precision    recall  f1-score   support\n",
      "\n",
      "           0       0.88      0.76      0.82       134\n",
      "           1       0.51      0.83      0.63        47\n",
      "           2       0.50      0.23      0.31        22\n",
      "\n",
      "    accuracy                           0.72       203\n",
      "   macro avg       0.63      0.61      0.59       203\n",
      "weighted avg       0.75      0.72      0.72       203\n",
      "\n",
      "\n",
      "Overall Accuracy: 0.719\n"
     ]
    },
    {
     "data": {
      "image/png": "[encoded data removed]",
      "text/plain": [
       "<Figure size 1000x800 with 2 Axes>"
      ]
     },
     "metadata": {},
     "output_type": "display_data"
    }
   ],
   "source": [
    "from src.model import evaluate_model\n",
    "from src.visualization import plot_confusion_matrix\n",
    "\n",
    "# Evaluate the model\n",
    "print(\"Evaluating the model...\")\n",
    "eval_results = evaluate_model(model, X_test, y_test)\n",
    "\n",
    "# Check if eval_results is not None\n",
    "if eval_results is not None:\n",
    "    # Plot confusion matrix\n",
    "    plot_confusion_matrix(y_test, eval_results['predictions'])\n",
    "    plt.savefig(os.path.join(reports_dir, 'confusion_matrix.png'))\n",
    "    plt.close()\n",
    "else:\n",
    "    print(\"Error: evaluate_model function returned None.\")"
   ]
  },
  {
   "cell_type": "code",
   "execution_count": 29,
   "id": "775eade7",
   "metadata": {},
   "outputs": [
    {
     "name": "stdout",
     "output_type": "stream",
     "text": [
      "Model saved to c:\\Users\\ELITEBOOK\\OneDrive\\Desktop\\Projects\\post-comments-sentiment-Analysis\\models\\comment_sentiments_model.pkl\n",
      "Vectorizer saved to c:\\Users\\ELITEBOOK\\OneDrive\\Desktop\\Projects\\post-comments-sentiment-Analysis\\models\\vectorizer.pkl\n",
      "Model metadata saved to c:\\Users\\ELITEBOOK\\OneDrive\\Desktop\\Projects\\post-comments-sentiment-Analysis\\models\\model_metadata.pkl\n"
     ]
    }
   ],
   "source": [
    "import joblib\n",
    "\n",
    "# Save the model and vectorizer for later use\n",
    "model_dir = os.path.join(project_root, 'models')\n",
    "if not os.path.exists(model_dir):\n",
    "    os.makedirs(model_dir)\n",
    "\n",
    "# Save the model\n",
    "model_path = os.path.join(model_dir, 'comment_sentiments_model.pkl')\n",
    "joblib.dump(model, model_path)\n",
    "print(f\"Model saved to {model_path}\")\n",
    "\n",
    "# Save the vectorizer\n",
    "vectorizer_path = os.path.join(model_dir, 'vectorizer.pkl')\n",
    "joblib.dump(vectorizer, vectorizer_path)\n",
    "print(f\"Vectorizer saved to {vectorizer_path}\")\n",
    "\n",
    "# Save additional model metadata\n",
    "model_metadata = {\n",
    "    'creation_date': pd.Timestamp.now().strftime('%Y-%m-%d %H:%M:%S'),\n",
    "    'number_of_features': X_train.shape[1],\n",
    "    'target_classes': sorted(list(set(y_train)))\n",
    "}\n",
    "\n",
    "metadata_path = os.path.join(model_dir, 'model_metadata.pkl')\n",
    "joblib.dump(model_metadata, metadata_path)\n",
    "print(f\"Model metadata saved to {metadata_path}\")\n"
   ]
  }
 ],
 "metadata": {
  "colab": {
   "provenance": []
  },
  "kernelspec": {
   "display_name": "Python 3",
   "language": "python",
   "name": "python3"
  },
  "language_info": {
   "codemirror_mode": {
    "name": "ipython",
    "version": 3
   },
   "file_extension": ".py",
   "mimetype": "text/x-python",
   "name": "python",
   "nbconvert_exporter": "python",
   "pygments_lexer": "ipython3",
   "version": "3.12.8"
  }
 },
 "nbformat": 4,
 "nbformat_minor": 5
}
