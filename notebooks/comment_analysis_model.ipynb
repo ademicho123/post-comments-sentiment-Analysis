{
 "cells": [
  {
   "cell_type": "code",
   "execution_count": 14,
   "id": "99fc38b1",
   "metadata": {
    "colab": {
     "base_uri": "https://localhost:8080/"
    },
    "executionInfo": {
     "elapsed": 254,
     "status": "ok",
     "timestamp": 1708118079466,
     "user": {
      "displayName": "Ademicho",
      "userId": "16016306917753753169"
     },
     "user_tz": 0
    },
    "id": "99fc38b1",
    "outputId": "a1f35bcf-86c1-416d-d842-2ee28574c68f"
   },
   "outputs": [],
   "source": [
    "import re\n",
    "import pandas as pd\n",
    "import string\n",
    "import nltk\n",
    "from nltk.corpus import stopwords\n",
    "from nltk.tokenize import word_tokenize\n",
    "from nltk.stem import PorterStemmer\n",
    "from nltk.sentiment.vader import SentimentIntensityAnalyzer\n",
    "from sklearn.feature_extraction.text import TfidfVectorizer\n",
    "import os\n",
    "import sys  # Import the sys module\n",
    "from pathlib import Path  # Import the Path class from pathlib module\n",
    "\n",
    "# Ensure NLTK resources are downloaded\n",
    "nltk.download('vader_lexicon', quiet=True)\n",
    "nltk.download('stopwords', quiet=True)\n",
    "nltk.download('punkt', quiet=True)\n",
    "nltk.download('wordnet', quiet=True)\n",
    "\n",
    "# Add the project root directory to Python path\n",
    "project_root = str(Path.cwd().parent) if 'notebooks' in str(Path.cwd()) else str(Path.cwd())\n",
    "if project_root not in sys.path:\n",
    "    sys.path.append(project_root)\n",
    "\n",
    "# Custom modules\n",
    "from src.preprocessing import load_data, preprocess_data, split_data\n",
    "from src.model import train_model, evaluate_model, save_model, load_model\n",
    "from src.visualization import plot_confusion_matrix, visualize_shap\n"
   ]
  },
  {
   "cell_type": "code",
   "execution_count": 16,
   "id": "c260cc56",
   "metadata": {
    "executionInfo": {
     "elapsed": 546,
     "status": "ok",
     "timestamp": 1708118080226,
     "user": {
      "displayName": "Ademicho",
      "userId": "16016306917753753169"
     },
     "user_tz": 0
    },
    "id": "c260cc56"
   },
   "outputs": [
    {
     "data": {
      "text/html": [
       "<div>\n",
       "<style scoped>\n",
       "    .dataframe tbody tr th:only-of-type {\n",
       "        vertical-align: middle;\n",
       "    }\n",
       "\n",
       "    .dataframe tbody tr th {\n",
       "        vertical-align: top;\n",
       "    }\n",
       "\n",
       "    .dataframe thead th {\n",
       "        text-align: right;\n",
       "    }\n",
       "</style>\n",
       "<table border=\"1\" class=\"dataframe\">\n",
       "  <thead>\n",
       "    <tr style=\"text-align: right;\">\n",
       "      <th></th>\n",
       "      <th>Public Identifier</th>\n",
       "      <th>Profile Link</th>\n",
       "      <th>Full Name</th>\n",
       "      <th>Subtitle</th>\n",
       "      <th>Comment Url</th>\n",
       "      <th>comments</th>\n",
       "      <th>Like Count</th>\n",
       "      <th>Comment Count</th>\n",
       "      <th>Is Reply</th>\n",
       "      <th>Is Author</th>\n",
       "      <th>Comment Time</th>\n",
       "    </tr>\n",
       "  </thead>\n",
       "  <tbody>\n",
       "    <tr>\n",
       "      <th>0</th>\n",
       "      <td>ACoAAAArQoYBpAqYrKxJmm8d24JvmnPZJME8u8I</td>\n",
       "      <td>https://www.linkedin.com/in/ACoAAAArQoYBpAqYrK...</td>\n",
       "      <td>Winnie Sun</td>\n",
       "      <td>#WinnieSun ?? ?? 25+ billion impressions share...</td>\n",
       "      <td>https://www.linkedin.com/feed/update/urn:li:ac...</td>\n",
       "      <td>Meeting Marsha Collier in person = priceless! ...</td>\n",
       "      <td>4</td>\n",
       "      <td>4</td>\n",
       "      <td>False</td>\n",
       "      <td>False</td>\n",
       "      <td>5/23/2018, 2:22:04 AM</td>\n",
       "    </tr>\n",
       "    <tr>\n",
       "      <th>1</th>\n",
       "      <td>ACoAAAATB9sBQ4Lr1QH_HHcaU7nsv0veqUjG0iI</td>\n",
       "      <td>https://www.linkedin.com/in/ACoAAAATB9sBQ4Lr1Q...</td>\n",
       "      <td>Marsha Collier</td>\n",
       "      <td>47 books: eCommerce, Social Media, Customer Se...</td>\n",
       "      <td>https://www.linkedin.com/feed/update/urn:li:ac...</td>\n",
       "      <td>I figured you'd be working anyway. Thanks so m...</td>\n",
       "      <td>0</td>\n",
       "      <td>0</td>\n",
       "      <td>True</td>\n",
       "      <td>True</td>\n",
       "      <td>5/26/2018, 1:09:55 AM</td>\n",
       "    </tr>\n",
       "    <tr>\n",
       "      <th>2</th>\n",
       "      <td>ACoAAAAsJKMBhXw2HY7b6BQcG5onjnxpSQusdaw</td>\n",
       "      <td>https://www.linkedin.com/in/ACoAAAAsJKMBhXw2HY...</td>\n",
       "      <td>Brett Gillilan</td>\n",
       "      <td>B2B Consultant</td>\n",
       "      <td>https://www.linkedin.com/feed/update/urn:li:ac...</td>\n",
       "      <td>Do you have the ability to get a full length f...</td>\n",
       "      <td>0</td>\n",
       "      <td>0</td>\n",
       "      <td>False</td>\n",
       "      <td>False</td>\n",
       "      <td>5/23/2018, 6:08:14 PM</td>\n",
       "    </tr>\n",
       "    <tr>\n",
       "      <th>3</th>\n",
       "      <td>ACoAAAHNFVQBIa-Ul4NAml-iAqsZTAuZvqcGINw</td>\n",
       "      <td>https://www.linkedin.com/in/ACoAAAHNFVQBIa-Ul4...</td>\n",
       "      <td>Melissa Reyes</td>\n",
       "      <td>Operations Manager at CVS Health</td>\n",
       "      <td>https://www.linkedin.com/feed/update/urn:li:ac...</td>\n",
       "      <td>Bummed I am just seeing this! Hope you had a f...</td>\n",
       "      <td>1</td>\n",
       "      <td>1</td>\n",
       "      <td>False</td>\n",
       "      <td>False</td>\n",
       "      <td>5/25/2018, 2:27:46 PM</td>\n",
       "    </tr>\n",
       "    <tr>\n",
       "      <th>4</th>\n",
       "      <td>ACoAAANmB6kBj8i-jq9oLr67NuxriLKmpuiH6CI</td>\n",
       "      <td>https://www.linkedin.com/in/ACoAAANmB6kBj8i-jq...</td>\n",
       "      <td>Dr. Ai Addyson-Zhang ?? Education Disruptor</td>\n",
       "      <td>?? I help teens &amp; young adults reclaim their c...</td>\n",
       "      <td>https://www.linkedin.com/feed/update/urn:li:ac...</td>\n",
       "      <td>This is soooo awesome! Wish i could join you a...</td>\n",
       "      <td>1</td>\n",
       "      <td>0</td>\n",
       "      <td>False</td>\n",
       "      <td>False</td>\n",
       "      <td>5/23/2018, 6:50:21 AM</td>\n",
       "    </tr>\n",
       "  </tbody>\n",
       "</table>\n",
       "</div>"
      ],
      "text/plain": [
       "                         Public Identifier  \\\n",
       "0  ACoAAAArQoYBpAqYrKxJmm8d24JvmnPZJME8u8I   \n",
       "1  ACoAAAATB9sBQ4Lr1QH_HHcaU7nsv0veqUjG0iI   \n",
       "2  ACoAAAAsJKMBhXw2HY7b6BQcG5onjnxpSQusdaw   \n",
       "3  ACoAAAHNFVQBIa-Ul4NAml-iAqsZTAuZvqcGINw   \n",
       "4  ACoAAANmB6kBj8i-jq9oLr67NuxriLKmpuiH6CI   \n",
       "\n",
       "                                        Profile Link  \\\n",
       "0  https://www.linkedin.com/in/ACoAAAArQoYBpAqYrK...   \n",
       "1  https://www.linkedin.com/in/ACoAAAATB9sBQ4Lr1Q...   \n",
       "2  https://www.linkedin.com/in/ACoAAAAsJKMBhXw2HY...   \n",
       "3  https://www.linkedin.com/in/ACoAAAHNFVQBIa-Ul4...   \n",
       "4  https://www.linkedin.com/in/ACoAAANmB6kBj8i-jq...   \n",
       "\n",
       "                                     Full Name  \\\n",
       "0                                   Winnie Sun   \n",
       "1                               Marsha Collier   \n",
       "2                               Brett Gillilan   \n",
       "3                                Melissa Reyes   \n",
       "4  Dr. Ai Addyson-Zhang ?? Education Disruptor   \n",
       "\n",
       "                                            Subtitle  \\\n",
       "0  #WinnieSun ?? ?? 25+ billion impressions share...   \n",
       "1  47 books: eCommerce, Social Media, Customer Se...   \n",
       "2                                     B2B Consultant   \n",
       "3                   Operations Manager at CVS Health   \n",
       "4  ?? I help teens & young adults reclaim their c...   \n",
       "\n",
       "                                         Comment Url  \\\n",
       "0  https://www.linkedin.com/feed/update/urn:li:ac...   \n",
       "1  https://www.linkedin.com/feed/update/urn:li:ac...   \n",
       "2  https://www.linkedin.com/feed/update/urn:li:ac...   \n",
       "3  https://www.linkedin.com/feed/update/urn:li:ac...   \n",
       "4  https://www.linkedin.com/feed/update/urn:li:ac...   \n",
       "\n",
       "                                            comments  Like Count  \\\n",
       "0  Meeting Marsha Collier in person = priceless! ...           4   \n",
       "1  I figured you'd be working anyway. Thanks so m...           0   \n",
       "2  Do you have the ability to get a full length f...           0   \n",
       "3  Bummed I am just seeing this! Hope you had a f...           1   \n",
       "4  This is soooo awesome! Wish i could join you a...           1   \n",
       "\n",
       "   Comment Count  Is Reply  Is Author           Comment Time  \n",
       "0              4     False      False  5/23/2018, 2:22:04 AM  \n",
       "1              0      True       True  5/26/2018, 1:09:55 AM  \n",
       "2              0     False      False  5/23/2018, 6:08:14 PM  \n",
       "3              1     False      False  5/25/2018, 2:27:46 PM  \n",
       "4              0     False      False  5/23/2018, 6:50:21 AM  "
      ]
     },
     "execution_count": 16,
     "metadata": {},
     "output_type": "execute_result"
    }
   ],
   "source": [
    "# Define paths\n",
    "RAW_DATA_PATH = r\"C:\\Users\\ELITEBOOK\\OneDrive\\Desktop\\Projects\\post-comments-sentiment-Analysis\\data\\raw\\comments_1st.csv\"  # Update with your file path\n",
    "PROCESSED_DATA_PATH = \"data/processed/processed_data.csv\"\n",
    "REPORTS_PATH = \"reports\"\n",
    "\n",
    "# Ensure the reports directory exists\n",
    "os.makedirs(REPORTS_PATH, exist_ok=True)\n",
    "\n",
    "# Load data with specified encoding\n",
    "data = pd.read_csv(RAW_DATA_PATH, encoding='latin1')\n",
    "data.head()\n"
   ]
  },
  {
   "cell_type": "code",
   "execution_count": 18,
   "id": "13581852",
   "metadata": {
    "colab": {
     "base_uri": "https://localhost:8080/",
     "height": 206
    },
    "executionInfo": {
     "elapsed": 496,
     "status": "ok",
     "timestamp": 1708118080714,
     "user": {
      "displayName": "Ademicho",
      "userId": "16016306917753753169"
     },
     "user_tz": 0
    },
    "id": "13581852",
    "outputId": "e53e8ec0-bc0c-4b6b-a60e-4061af99c72c"
   },
   "outputs": [
    {
     "ename": "NameError",
     "evalue": "name 'comments' is not defined",
     "output_type": "error",
     "traceback": [
      "\u001b[1;31m---------------------------------------------------------------------------\u001b[0m",
      "\u001b[1;31mNameError\u001b[0m                                 Traceback (most recent call last)",
      "Cell \u001b[1;32mIn[18], line 11\u001b[0m\n\u001b[0;32m      8\u001b[0m         \u001b[38;5;28;01mreturn\u001b[39;00m \u001b[38;5;124m'\u001b[39m\u001b[38;5;124mneutral\u001b[39m\u001b[38;5;124m'\u001b[39m\n\u001b[0;32m     10\u001b[0m \u001b[38;5;66;03m# Add a new column 'sentiment' with sentiment labels\u001b[39;00m\n\u001b[1;32m---> 11\u001b[0m comments[\u001b[38;5;124m'\u001b[39m\u001b[38;5;124msentiment\u001b[39m\u001b[38;5;124m'\u001b[39m] \u001b[38;5;241m=\u001b[39m \u001b[43mcomments\u001b[49m[\u001b[38;5;124m'\u001b[39m\u001b[38;5;124mscore\u001b[39m\u001b[38;5;124m'\u001b[39m]\u001b[38;5;241m.\u001b[39mapply(map_score_to_sentiment)\n\u001b[0;32m     12\u001b[0m comments\u001b[38;5;241m.\u001b[39mhead(\u001b[38;5;241m5\u001b[39m)\n",
      "\u001b[1;31mNameError\u001b[0m: name 'comments' is not defined"
     ]
    }
   ],
   "source": [
    "# Function to map score to sentiment label\n",
    "def map_score_to_sentiment(score):\n",
    "    if score > 0.5:\n",
    "        return 'positive'\n",
    "    elif score < 0.0:\n",
    "        return 'negative'\n",
    "    else:\n",
    "        return 'neutral'\n",
    "\n",
    "# Add a new column 'sentiment' with sentiment labels\n",
    "comments['sentiment'] = comments['score'].apply(map_score_to_sentiment)\n",
    "comments.head(5)\n"
   ]
  },
  {
   "cell_type": "code",
   "execution_count": null,
   "id": "Y4p3kdpIlrj8",
   "metadata": {
    "colab": {
     "base_uri": "https://localhost:8080/",
     "height": 618
    },
    "executionInfo": {
     "elapsed": 543,
     "status": "ok",
     "timestamp": 1708118081243,
     "user": {
      "displayName": "Ademicho",
      "userId": "16016306917753753169"
     },
     "user_tz": 0
    },
    "id": "Y4p3kdpIlrj8",
    "outputId": "e06aea24-9eb9-4a67-e208-50e5fcdbc028"
   },
   "outputs": [],
   "source": [
    "# Plotting the data\n",
    "sns.countplot(x='sentiment', data=comment_column)\n",
    "plt.title"
   ]
  },
  {
   "cell_type": "code",
   "execution_count": null,
   "id": "e92e92cc",
   "metadata": {
    "colab": {
     "base_uri": "https://localhost:8080/",
     "height": 206
    },
    "executionInfo": {
     "elapsed": 22,
     "status": "ok",
     "timestamp": 1708118081243,
     "user": {
      "displayName": "Ademicho",
      "userId": "16016306917753753169"
     },
     "user_tz": 0
    },
    "id": "e92e92cc",
    "outputId": "afb730c5-ca6d-48f5-a904-5dd930d1b2b5"
   },
   "outputs": [],
   "source": [
    "# Conveting our target column \"Sentiment\" into numerical format. Positve to 2 , Neutral to 1 and negative to 0\n",
    "comment_column.sentiment.replace(\"positive\", 2, inplace=True)\n",
    "comment_column.sentiment.replace(\"neutral\", 1, inplace=True)\n",
    "comment_column.sentiment.replace(\"negative\", 0, inplace=True)\n",
    "comment_column.head(5)"
   ]
  },
  {
   "cell_type": "code",
   "execution_count": null,
   "id": "p0Vnl1bALUvO",
   "metadata": {
    "colab": {
     "base_uri": "https://localhost:8080/",
     "height": 391
    },
    "executionInfo": {
     "elapsed": 18,
     "status": "ok",
     "timestamp": 1708118081244,
     "user": {
      "displayName": "Ademicho",
      "userId": "16016306917753753169"
     },
     "user_tz": 0
    },
    "id": "p0Vnl1bALUvO",
    "outputId": "998e5a69-9a2c-4594-b51b-86103d658440"
   },
   "outputs": [],
   "source": [
    "# @title sentiment\n",
    "\n",
    "from matplotlib import pyplot as plt\n",
    "comment_column['sentiment'].plot(kind='line', figsize=(8, 4), title='sentiment')\n",
    "plt.gca().spines[['top', 'right']].set_visible(False)"
   ]
  },
  {
   "cell_type": "code",
   "execution_count": null,
   "id": "bt6UunRrLRDU",
   "metadata": {
    "colab": {
     "base_uri": "https://localhost:8080/",
     "height": 391
    },
    "executionInfo": {
     "elapsed": 575,
     "status": "ok",
     "timestamp": 1708118081803,
     "user": {
      "displayName": "Ademicho",
      "userId": "16016306917753753169"
     },
     "user_tz": 0
    },
    "id": "bt6UunRrLRDU",
    "outputId": "f652d177-28cd-4c7b-dab6-05bb7b201a10"
   },
   "outputs": [],
   "source": [
    "# @title score\n",
    "\n",
    "from matplotlib import pyplot as plt\n",
    "comment_column['score'].plot(kind='line', figsize=(8, 4), title='score')\n",
    "plt.gca().spines[['top', 'right']].set_visible(False)"
   ]
  },
  {
   "cell_type": "code",
   "execution_count": null,
   "id": "4970c3e0",
   "metadata": {
    "colab": {
     "base_uri": "https://localhost:8080/",
     "height": 206
    },
    "executionInfo": {
     "elapsed": 859,
     "status": "ok",
     "timestamp": 1708118082653,
     "user": {
      "displayName": "Ademicho",
      "userId": "16016306917753753169"
     },
     "user_tz": 0
    },
    "id": "4970c3e0",
    "outputId": "f8133e07-9d83-45a0-a115-0ba54a6daace"
   },
   "outputs": [],
   "source": [
    "# Text Preprocessing\n",
    "\n",
    "def preprocess_text(text):\n",
    "    \"\"\"\n",
    "    Preprocesses a given text by:\n",
    "    1. Removing URLs\n",
    "    2. Removing HTML tags\n",
    "    3. Removing noise texts\n",
    "    4. Converting text to lowercase\n",
    "    5. Removing punctuation\n",
    "    6. Removing numbers\n",
    "    7. Tokenization\n",
    "    8. Removing stopwords\n",
    "    9. Stemming\n",
    "    \"\"\"\n",
    "    # Remove URLs\n",
    "    text = re.sub(r'http\\S+', '', text)\n",
    "\n",
    "    # Remove HTML tags\n",
    "    text = re.sub(r'<.*?>', '', text)\n",
    "\n",
    "    # Remove noise texts (you can customize this based on your data)\n",
    "    noise_list = ['@username', 'RT', '&amp;', '...', 'etc.']\n",
    "    for noise in noise_list:\n",
    "        text = text.replace(noise, '')\n",
    "\n",
    "    # Convert text to lowercase\n",
    "    text = text.lower()\n",
    "\n",
    "    # Remove punctuation\n",
    "    text = text.translate(str.maketrans('', '', string.punctuation))\n",
    "\n",
    "    # Remove numbers\n",
    "    text = re.sub(r'\\d+', '', text)\n",
    "\n",
    "    # Tokenization\n",
    "    tokens = word_tokenize(text)\n",
    "\n",
    "    # Remove stopwords\n",
    "    stop_words = set(stopwords.words('english'))\n",
    "    filtered_tokens = [word for word in tokens if word not in stop_words]\n",
    "\n",
    "    # Stemming\n",
    "    stemmer = PorterStemmer()\n",
    "    stemmed_tokens = [stemmer.stem(word) for word in filtered_tokens]\n",
    "\n",
    "    # Join the stemmed tokens back into a single string\n",
    "    preprocessed_text = ' '.join(stemmed_tokens)\n",
    "\n",
    "    # Ensure the preprocessed text contains only alphabetic characters\n",
    "    preprocessed_text = re.sub(r'[^a-zA-Z\\s]', '', preprocessed_text)\n",
    "\n",
    "    return preprocessed_text.strip()  # Remove leading and trailing whitespaces\n",
    "\n",
    "# Preprocess the comments\n",
    "comment_column['preprocessed_comments'] = comment_column['comments'].apply(preprocess_text)\n",
    "comment_column.head(5)"
   ]
  },
  {
   "cell_type": "code",
   "execution_count": 15,
   "id": "15f9c1ef",
   "metadata": {
    "executionInfo": {
     "elapsed": 13,
     "status": "ok",
     "timestamp": 1708118082654,
     "user": {
      "displayName": "Ademicho",
      "userId": "16016306917753753169"
     },
     "user_tz": 0
    },
    "id": "15f9c1ef"
   },
   "outputs": [],
   "source": [
    "# Convert preprocessed comments to TF-IDF representation\n",
    "# Initialize TfidfVectorizer to create TF-IDF representation\n",
    "vectorizer = CountVectorizer()\n",
    "\n",
    "# Fit and transform the preprocessed comments to create TF-IDF representation\n",
    "tfidf_representation = vectorizer.fit_transform(comment_column['preprocessed_comments'])\n"
   ]
  },
  {
   "cell_type": "code",
   "execution_count": 16,
   "id": "413913ac",
   "metadata": {
    "executionInfo": {
     "elapsed": 13,
     "status": "ok",
     "timestamp": 1708118082655,
     "user": {
      "displayName": "Ademicho",
      "userId": "16016306917753753169"
     },
     "user_tz": 0
    },
    "id": "413913ac"
   },
   "outputs": [],
   "source": [
    "# Defining input and target variable\n",
    "X = vectorizer.fit_transform(comment_column['preprocessed_comments'])\n",
    "y = comment_column['sentiment']\n",
    "\n",
    "# Splitting the data into training and testing data set\n",
    "test_size = 0.2\n",
    "seed = 7\n",
    "X_train, X_test, y_train, y_test = train_test_split(X, y, test_size=test_size, random_state=seed)\n"
   ]
  },
  {
   "cell_type": "code",
   "execution_count": null,
   "id": "022fa68c",
   "metadata": {
    "id": "022fa68c"
   },
   "outputs": [],
   "source": [
    "# Initialize the logistic regression classifier\n",
    "#classifier = RandomForestClassifier(**best_params)\n",
    "classifier = XGBClassifier(objective='multi:softmax')\n",
    "\n",
    "# Train the classifier on the training data\n",
    "classifier.fit(X_train, y_train)\n",
    "\n",
    "# Make predictions on the test data\n",
    "y_pred = classifier.predict(X_test)\n"
   ]
  },
  {
   "cell_type": "code",
   "execution_count": null,
   "id": "iuiwAsB409Sg",
   "metadata": {
    "colab": {
     "base_uri": "https://localhost:8080/",
     "height": 616
    },
    "executionInfo": {
     "elapsed": 743,
     "status": "ok",
     "timestamp": 1708118162273,
     "user": {
      "displayName": "Ademicho",
      "userId": "16016306917753753169"
     },
     "user_tz": 0
    },
    "id": "iuiwAsB409Sg",
    "outputId": "ee923b57-2162-4927-98d1-3a18c40324cf"
   },
   "outputs": [],
   "source": [
    "# Calculate confusion matrix for testing data\n",
    "conf_matrix = confusion_matrix(y_test, y_pred)\n",
    "\n",
    "# Plot confusion matrix\n",
    "plt.figure(figsize=(8, 6))\n",
    "sns.heatmap(conf_matrix, annot=True, fmt='d', cmap='Blues')\n",
    "plt.title('Confusion Matrix for Testing Data')\n",
    "plt.xlabel('Predicted Label')\n",
    "plt.ylabel('True Label')\n",
    "plt.show()\n"
   ]
  }
 ],
 "metadata": {
  "colab": {
   "provenance": []
  },
  "kernelspec": {
   "display_name": "Python 3",
   "language": "python",
   "name": "python3"
  },
  "language_info": {
   "codemirror_mode": {
    "name": "ipython",
    "version": 3
   },
   "file_extension": ".py",
   "mimetype": "text/x-python",
   "name": "python",
   "nbconvert_exporter": "python",
   "pygments_lexer": "ipython3",
   "version": "3.12.8"
  }
 },
 "nbformat": 4,
 "nbformat_minor": 5
}
